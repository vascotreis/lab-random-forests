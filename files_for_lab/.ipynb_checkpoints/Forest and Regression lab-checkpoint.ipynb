{
 "cells": [
  {
   "cell_type": "code",
   "execution_count": 1,
   "id": "2460e8f4",
   "metadata": {},
   "outputs": [
    {
     "data": {
      "text/plain": [
       "0    90569\n",
       "1     4843\n",
       "Name: TARGET_B, dtype: int64"
      ]
     },
     "execution_count": 1,
     "metadata": {},
     "output_type": "execute_result"
    }
   ],
   "source": [
    "import pandas as pd\n",
    "import numpy as np\n",
    "pd.set_option('display.max_columns', None)\n",
    "import warnings\n",
    "warnings.filterwarnings('ignore')\n",
    "\n",
    "numerical = pd.read_csv('numerical.csv')\n",
    "categorical = pd.read_csv('categorical.csv')\n",
    "targets = pd.read_csv('target.csv')\n",
    "data = pd.concat([numerical, categorical, targets], axis = 1)\n",
    "data['TARGET_B'].value_counts()"
   ]
  },
  {
   "cell_type": "code",
   "execution_count": 2,
   "id": "bf612d00",
   "metadata": {},
   "outputs": [
    {
     "data": {
      "text/plain": [
       "0"
      ]
     },
     "execution_count": 2,
     "metadata": {},
     "output_type": "execute_result"
    }
   ],
   "source": [
    "data.isna().sum().sum()\n"
   ]
  },
  {
   "cell_type": "code",
   "execution_count": 3,
   "id": "06c65fea",
   "metadata": {},
   "outputs": [
    {
     "data": {
      "text/plain": [
       "(95412, 339)"
      ]
     },
     "execution_count": 3,
     "metadata": {},
     "output_type": "execute_result"
    }
   ],
   "source": [
    "data.shape\n"
   ]
  },
  {
   "cell_type": "code",
   "execution_count": 4,
   "id": "1ad5b295",
   "metadata": {},
   "outputs": [],
   "source": [
    "data = data.drop(['TARGET_D'],axis=1)\n"
   ]
  },
  {
   "cell_type": "code",
   "execution_count": 5,
   "id": "5894dcf6",
   "metadata": {},
   "outputs": [],
   "source": [
    "# X-y\n",
    "\n",
    "y = data['TARGET_B']\n",
    "X = data.drop(['TARGET_B'],axis=1)\n",
    "\n",
    "numericalX = X.select_dtypes(np.number).reset_index(drop=True)\n",
    "\n",
    "categoricalX = X.select_dtypes(object).reset_index(drop=True)"
   ]
  },
  {
   "cell_type": "code",
   "execution_count": 6,
   "id": "b16194be",
   "metadata": {},
   "outputs": [],
   "source": [
    "from sklearn.preprocessing import OneHotEncoder\n",
    "\n",
    "encoder = OneHotEncoder(drop='first').fit(categoricalX)\n",
    "encoded_categorical = encoder.transform(categoricalX).toarray()\n",
    "encoded_categorical = pd.DataFrame(encoded_categorical)"
   ]
  },
  {
   "cell_type": "code",
   "execution_count": 7,
   "id": "024a4dac",
   "metadata": {},
   "outputs": [],
   "source": [
    "X = pd.concat([numericalX, encoded_categorical], axis = 1)"
   ]
  },
  {
   "cell_type": "code",
   "execution_count": 8,
   "id": "665f6253",
   "metadata": {},
   "outputs": [],
   "source": [
    "from sklearn.model_selection import train_test_split\n",
    "\n",
    "X_train, X_test, y_train, y_test = train_test_split(X, y, test_size=0.2, random_state=0)"
   ]
  },
  {
   "cell_type": "code",
   "execution_count": 9,
   "id": "ed79dd8a",
   "metadata": {},
   "outputs": [
    {
     "data": {
      "text/plain": [
       "(72486, 355)"
      ]
     },
     "metadata": {},
     "output_type": "display_data"
    },
    {
     "data": {
      "text/plain": [
       "(72486, 355)"
      ]
     },
     "metadata": {},
     "output_type": "display_data"
    }
   ],
   "source": [
    "traindata = pd.concat([X_train,y_train], axis=1 ).reset_index(drop=True)\n",
    "\n",
    "no_donate = traindata[traindata['TARGET_B']==0]\n",
    "yes_donate = traindata[traindata['TARGET_B']==1]\n",
    "\n",
    "from sklearn.utils import resample\n",
    "yes_donate_upsampled = resample(yes_donate, \n",
    "                                    replace=True,\n",
    "                                    n_samples = len(no_donate),\n",
    "                                    random_state=42)\n",
    "\n",
    "\n",
    "display(no_donate.shape)\n",
    "display(yes_donate_upsampled.shape)"
   ]
  },
  {
   "cell_type": "code",
   "execution_count": 10,
   "id": "0bfbc889",
   "metadata": {},
   "outputs": [],
   "source": [
    "upsampled = pd.concat([no_donate,yes_donate_upsampled], axis=0)\n",
    "\n",
    "upsampled = upsampled.reset_index(drop=True)"
   ]
  },
  {
   "cell_type": "code",
   "execution_count": 11,
   "id": "a3546618",
   "metadata": {},
   "outputs": [],
   "source": [
    "y_train = upsampled['TARGET_B']\n",
    "X_train = upsampled.drop(['TARGET_B'],axis=1)"
   ]
  },
  {
   "cell_type": "code",
   "execution_count": 12,
   "id": "0bf611ca",
   "metadata": {},
   "outputs": [
    {
     "name": "stdout",
     "output_type": "stream",
     "text": [
      "0.6245274949645448\n",
      "0.6025258083110622\n"
     ]
    }
   ],
   "source": [
    "from sklearn.ensemble import RandomForestClassifier\n",
    "clf = RandomForestClassifier(max_depth=5,\n",
    "                             min_samples_split=20,\n",
    "                             min_samples_leaf =20)\n",
    "clf.fit(X_train, y_train)\n",
    "print(clf.score(X_train, y_train))\n",
    "print(clf.score(X_test, y_test))"
   ]
  },
  {
   "cell_type": "code",
   "execution_count": 13,
   "id": "a49f2834",
   "metadata": {},
   "outputs": [
    {
     "name": "stdout",
     "output_type": "stream",
     "text": [
      "0.6254863008029137\n",
      "0.6055127600482104\n"
     ]
    }
   ],
   "source": [
    "from sklearn.ensemble import RandomForestClassifier\n",
    "clf = RandomForestClassifier(max_depth=5,\n",
    "                             min_samples_split=20,\n",
    "                             min_samples_leaf =20)\n",
    "clf.fit(X_train, y_train)\n",
    "print(clf.score(X_train, y_train))\n",
    "print(clf.score(X_test, y_test))"
   ]
  },
  {
   "cell_type": "code",
   "execution_count": 15,
   "id": "fd26ddfb",
   "metadata": {},
   "outputs": [
    {
     "name": "stdout",
     "output_type": "stream",
     "text": [
      "accuracy:  0.6055127600482104\n",
      "recall:  0.555\n",
      "f1:  0.1285019680481593\n"
     ]
    }
   ],
   "source": [
    "from sklearn.metrics import precision_score\n",
    "from sklearn.metrics import recall_score\n",
    "from sklearn.metrics import f1_score\n",
    "from sklearn.metrics import accuracy_score\n",
    "pred = clf.predict(X_test)\n",
    "\n",
    "print(\"accuracy: \",accuracy_score(y_test,pred))\n",
    "print(\"recall: \",recall_score(y_test,pred))\n",
    "print(\"f1: \",f1_score(y_test,pred))"
   ]
  },
  {
   "cell_type": "code",
   "execution_count": 16,
   "id": "aa9ff96b",
   "metadata": {},
   "outputs": [
    {
     "data": {
      "text/plain": [
       "array([[11000,  7083],\n",
       "       [  445,   555]])"
      ]
     },
     "execution_count": 16,
     "metadata": {},
     "output_type": "execute_result"
    }
   ],
   "source": [
    "from sklearn.metrics import confusion_matrix\n",
    "\n",
    "confusion_matrix(y_test,pred)"
   ]
  },
  {
   "cell_type": "code",
   "execution_count": 17,
   "id": "9d394779",
   "metadata": {},
   "outputs": [],
   "source": [
    "#  548 we predicted that they are the donors and indeed they are.. \n",
    "#   452 we predicted that they are not donors but actually they are.. \n",
    "#    7175 we predicted that they are donors but actally they are not..\n",
    "\n",
    "# so we need to progress the model in order to predict donors. Indeed they are donors and in our model also they are donors."
   ]
  },
  {
   "cell_type": "code",
   "execution_count": 22,
   "id": "04c6d054",
   "metadata": {},
   "outputs": [
    {
     "name": "stdout",
     "output_type": "stream",
     "text": [
      "Amount that donation gained:  8559.76\n",
      "Amount that our prediction was wrong:  7060.24\n",
      "Amount that donation spend on marketing:  5251.64\n",
      "Amount that donation spend on marketing but we predict wrong:  4879.0\n"
     ]
    }
   ],
   "source": [
    "donations_positive = 548 * 15.62\n",
    "donations_got_wasted = 452 * 15.62\n",
    "spent_on_marketing = (7175+548)*0.68\n",
    "wasted_on_marketing = 7175*0.68\n",
    "\n",
    "print('Amount that donation gained: ', round(donations_positive,2))\n",
    "print('Amount that our prediction was wrong: ', round(donations_got_wasted,2))\n",
    "print('Amount that donation spend on marketing: ', round(spent_on_marketing,2))\n",
    "print('Amount that donation spend on marketing but we predict wrong: ', round(wasted_on_marketing,2))"
   ]
  },
  {
   "cell_type": "code",
   "execution_count": null,
   "id": "18e3c2a7",
   "metadata": {},
   "outputs": [],
   "source": []
  }
 ],
 "metadata": {
  "kernelspec": {
   "display_name": "Python 3 (ipykernel)",
   "language": "python",
   "name": "python3"
  },
  "language_info": {
   "codemirror_mode": {
    "name": "ipython",
    "version": 3
   },
   "file_extension": ".py",
   "mimetype": "text/x-python",
   "name": "python",
   "nbconvert_exporter": "python",
   "pygments_lexer": "ipython3",
   "version": "3.9.13"
  }
 },
 "nbformat": 4,
 "nbformat_minor": 5
}
